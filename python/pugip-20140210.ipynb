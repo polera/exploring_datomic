{
 "metadata": {
  "name": ""
 },
 "nbformat": 3,
 "nbformat_minor": 0,
 "worksheets": [
  {
   "cells": [
    {
     "cell_type": "code",
     "collapsed": false,
     "input": [
      "from datomic import *"
     ],
     "language": "python",
     "metadata": {},
     "outputs": [],
     "prompt_number": 1
    },
    {
     "cell_type": "code",
     "collapsed": false,
     "input": [
      "# Connect to the database\n",
      "db = DB('localhost', 8080, 'free', 'tvdata')"
     ],
     "language": "python",
     "metadata": {},
     "outputs": [],
     "prompt_number": 2
    },
    {
     "cell_type": "code",
     "collapsed": false,
     "input": [
      "# Review the database information\n",
      "db.info()"
     ],
     "language": "python",
     "metadata": {},
     "outputs": [
      {
       "metadata": {},
       "output_type": "pyout",
       "prompt_number": 3,
       "text": [
        "{'basis-t': 1010, 'db/alias': 'free/tvdata'}"
       ]
      }
     ],
     "prompt_number": 3
    },
    {
     "cell_type": "code",
     "collapsed": false,
     "input": [
      "# Start a new transaction\n",
      "tx = db.tx()"
     ],
     "language": "python",
     "metadata": {},
     "outputs": [],
     "prompt_number": 4
    },
    {
     "cell_type": "code",
     "collapsed": false,
     "input": [
      "# Add a person to our database\n",
      "person = tx.add(\"person/\", {'name': \"Wanda Sykes\"})"
     ],
     "language": "python",
     "metadata": {},
     "outputs": [],
     "prompt_number": 5
    },
    {
     "cell_type": "code",
     "collapsed": false,
     "input": [
      "# Demonstrate that our person has a temp id\n",
      "# In Datomic, all temp ids are negative\n",
      "print(person)"
     ],
     "language": "python",
     "metadata": {},
     "outputs": [
      {
       "output_type": "stream",
       "stream": "stdout",
       "text": [
        "{'db/id': \u001b[35m-1\u001b[0m}\n"
       ]
      }
     ],
     "prompt_number": 6
    },
    {
     "cell_type": "code",
     "collapsed": false,
     "input": [
      "# Commit our transaction\n",
      "tx.execute()"
     ],
     "language": "python",
     "metadata": {},
     "outputs": [
      {
       "metadata": {},
       "output_type": "pyout",
       "prompt_number": 7,
       "text": [
        "{'db-after': {'basis-t': 1014, 'db/alias': 'free/tvdata'},\n",
        " 'db-before': {'basis-t': 1010, 'db/alias': 'free/tvdata'},\n",
        " 'tempids': {-9223350046622220289: 17592186045431},\n",
        " 'tx-data': [{'a': 50,\n",
        "   'added': True,\n",
        "   'e': 13194139534326,\n",
        "   'tx': 13194139534326,\n",
        "   'v': datetime.datetime(2014, 2, 11, 0, 21, 33, 683000, tzinfo=<UTC>)},\n",
        "  {'a': 66,\n",
        "   'added': True,\n",
        "   'e': 17592186045431,\n",
        "   'tx': 13194139534326,\n",
        "   'v': 'Wanda Sykes'}]}"
       ]
      }
     ],
     "prompt_number": 7
    },
    {
     "cell_type": "code",
     "collapsed": false,
     "input": [
      "# Retrieve our person, post commit\n",
      "db.e(person)"
     ],
     "language": "python",
     "metadata": {},
     "outputs": [
      {
       "output_type": "stream",
       "stream": "stdout",
       "text": [
        "\u001b[36m<<< fetched entity {'db/id': \u001b[35m17592186045431\u001b[0m} in 23.784ms\u001b[0m\n"
       ]
      },
      {
       "metadata": {},
       "output_type": "pyout",
       "prompt_number": 8,
       "text": [
        "{'db/id': 17592186045431, 'person/name': 'Wanda Sykes'}"
       ]
      }
     ],
     "prompt_number": 8
    },
    {
     "cell_type": "code",
     "collapsed": false,
     "input": [
      "# List all the people in our database\n",
      "db.q('[:find ?p :where [_ :person/name ?p]]')"
     ],
     "language": "python",
     "metadata": {},
     "outputs": [
      {
       "metadata": {},
       "output_type": "pyout",
       "prompt_number": 9,
       "text": [
        "[['Susie Essman'],\n",
        " ['Jeff Garlin'],\n",
        " ['Wanda Sykes'],\n",
        " ['Richard Lewis'],\n",
        " ['Bob Einstein'],\n",
        " ['Larry David'],\n",
        " ['Cheryl Hines'],\n",
        " ['J.B. Smoove']]"
       ]
      }
     ],
     "prompt_number": 9
    },
    {
     "cell_type": "code",
     "collapsed": false,
     "input": [
      "# Get the name of our newly added person\n",
      "db.e(person).get('person/name')"
     ],
     "language": "python",
     "metadata": {},
     "outputs": [
      {
       "output_type": "stream",
       "stream": "stdout",
       "text": [
        "\u001b[36m<<< fetched entity {'db/id': \u001b[35m17592186045431\u001b[0m} in 9.18ms\u001b[0m\n"
       ]
      },
      {
       "metadata": {},
       "output_type": "pyout",
       "prompt_number": 10,
       "text": [
        "'Wanda Sykes'"
       ]
      }
     ],
     "prompt_number": 10
    },
    {
     "cell_type": "code",
     "collapsed": false,
     "input": [
      "# Retract the person with the name 'Wanda Sykes' from our database\n",
      "db.retract(person, 'person/name', 'Wanda Sykes')"
     ],
     "language": "python",
     "metadata": {},
     "outputs": [
      {
       "output_type": "stream",
       "stream": "stdout",
       "text": [
        "\u001b[36m<<< retracted {'db/id': \u001b[35m17592186045431\u001b[0m},person/name,Wanda Sykes in 22.201ms\u001b[0m\n"
       ]
      },
      {
       "metadata": {},
       "output_type": "pyout",
       "prompt_number": 11,
       "text": [
        "{'db-after': {'basis-t': 1016, 'db/alias': 'free/tvdata'},\n",
        " 'db-before': {'basis-t': 1014, 'db/alias': 'free/tvdata'},\n",
        " 'tempids': {},\n",
        " 'tx-data': [{'a': 50,\n",
        "   'added': True,\n",
        "   'e': 13194139534328,\n",
        "   'tx': 13194139534328,\n",
        "   'v': datetime.datetime(2014, 2, 11, 0, 22, 21, 27000, tzinfo=<UTC>)},\n",
        "  {'a': 66,\n",
        "   'added': False,\n",
        "   'e': 17592186045431,\n",
        "   'tx': 13194139534328,\n",
        "   'v': 'Wanda Sykes'}]}"
       ]
      }
     ],
     "prompt_number": 11
    },
    {
     "cell_type": "code",
     "collapsed": false,
     "input": [
      "# Get the list of all people in our database, post retraction\n",
      "people = db.q('[:find ?p :where [_ :person/name ?p]]')"
     ],
     "language": "python",
     "metadata": {},
     "outputs": [],
     "prompt_number": 12
    },
    {
     "cell_type": "code",
     "collapsed": false,
     "input": [
      "# \"people\" is just a list of lists of people, get its length\n",
      "len(people)"
     ],
     "language": "python",
     "metadata": {},
     "outputs": [
      {
       "metadata": {},
       "output_type": "pyout",
       "prompt_number": 13,
       "text": [
        "7"
       ]
      }
     ],
     "prompt_number": 13
    },
    {
     "cell_type": "code",
     "collapsed": false,
     "input": [
      "# pull the names out into a new list \"name_list\"\n",
      "name_list = [name[0] for name in people]"
     ],
     "language": "python",
     "metadata": {},
     "outputs": [],
     "prompt_number": 14
    },
    {
     "cell_type": "code",
     "collapsed": false,
     "input": [
      "name_list"
     ],
     "language": "python",
     "metadata": {},
     "outputs": [
      {
       "metadata": {},
       "output_type": "pyout",
       "prompt_number": 15,
       "text": [
        "['Susie Essman',\n",
        " 'Jeff Garlin',\n",
        " 'Richard Lewis',\n",
        " 'Bob Einstein',\n",
        " 'Larry David',\n",
        " 'Cheryl Hines',\n",
        " 'J.B. Smoove']"
       ]
      }
     ],
     "prompt_number": 15
    },
    {
     "cell_type": "code",
     "collapsed": false,
     "input": [
      "# filter out names that contain the letter \"e\"\n",
      "filter(lambda x: x.find('e') > -1, name_list)"
     ],
     "language": "python",
     "metadata": {},
     "outputs": [
      {
       "metadata": {},
       "output_type": "pyout",
       "prompt_number": 16,
       "text": [
        "['Susie Essman',\n",
        " 'Jeff Garlin',\n",
        " 'Richard Lewis',\n",
        " 'Bob Einstein',\n",
        " 'Cheryl Hines',\n",
        " 'J.B. Smoove']"
       ]
      }
     ],
     "prompt_number": 16
    },
    {
     "cell_type": "code",
     "collapsed": false,
     "input": [],
     "language": "python",
     "metadata": {},
     "outputs": []
    }
   ],
   "metadata": {}
  }
 ]
}